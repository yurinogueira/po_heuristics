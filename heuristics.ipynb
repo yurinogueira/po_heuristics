{
 "cells": [
  {
   "cell_type": "code",
   "id": "initial_id",
   "metadata": {
    "collapsed": true,
    "ExecuteTime": {
     "end_time": "2025-01-05T20:48:21.830667Z",
     "start_time": "2025-01-05T20:48:21.602430Z"
    }
   },
   "source": [
    "import copy\n",
    "import random\n",
    "import math\n",
    "import time"
   ],
   "outputs": [],
   "execution_count": 55
  },
  {
   "metadata": {
    "ExecuteTime": {
     "end_time": "2025-01-05T21:22:07.274579593Z",
     "start_time": "2025-01-05T19:16:32.141321Z"
    }
   },
   "cell_type": "code",
   "source": [
    "class AirPlaneData:\n",
    "    appearance_time: int\n",
    "    earliest_landing_time: int\n",
    "    target_landing_time: int\n",
    "    latest_landing_time: int\n",
    "    penalty_cost_per_minute_early: int\n",
    "    penalty_cost_per_minute_late: int\n",
    "\n",
    "    def __init__(self,\n",
    "                 appearance_time: int,\n",
    "                 earliest_landing_time: int,\n",
    "                 target_landing_time: int,\n",
    "                 latest_landing_time: int,\n",
    "                 penalty_cost_per_minute_early: int,\n",
    "                 penalty_cost_per_minute_late: int):\n",
    "        self.appearance_time = appearance_time\n",
    "        self.earliest_landing_time = earliest_landing_time\n",
    "        self.target_landing_time = target_landing_time\n",
    "        self.latest_landing_time = latest_landing_time\n",
    "        self.penalty_cost_per_minute_early = penalty_cost_per_minute_early\n",
    "        self.penalty_cost_per_minute_late = penalty_cost_per_minute_late\n",
    "\n",
    "\n",
    "class LandingData:\n",
    "    num_planes: int\n",
    "    freeze_time: int\n",
    "    planes: list[AirPlaneData]\n",
    "    separation_times: list[list[int]]\n",
    "\n",
    "    def __init__(self, num_planes: int, freeze_time: int, planes: list[AirPlaneData], separation_times: list[list[int]]):\n",
    "        self.num_planes = num_planes\n",
    "        self.freeze_time = freeze_time\n",
    "        self.planes = planes\n",
    "        self.separation_times = separation_times\n",
    "\n",
    "\n",
    "class Solution:\n",
    "    solution: list[int]\n",
    "    cost: float\n",
    "\n",
    "    def __init__(self, current_solution: list[int], cost: float):\n",
    "        self.solution = current_solution\n",
    "        self.cost = cost"
   ],
   "id": "c09d7968716aa8f1",
   "outputs": [],
   "execution_count": 8
  },
  {
   "metadata": {
    "ExecuteTime": {
     "end_time": "2025-01-05T19:39:35.216818414Z",
     "start_time": "2025-01-05T19:16:34.371946Z"
    }
   },
   "cell_type": "code",
   "source": [
    "def load_data(file_path: str) -> LandingData:\n",
    "    with open(file_path, 'r') as f:\n",
    "        lines = f.readlines()\n",
    "\n",
    "    line_idx: int = 0\n",
    "    len_lines: int = len(lines)\n",
    "\n",
    "    num_planes, freeze_time = map(int, lines[line_idx].strip().split())\n",
    "    planes: list[AirPlaneData] = []\n",
    "    separation_times: list[list[int]] = []\n",
    "\n",
    "\n",
    "    while line_idx < (len_lines - 1):\n",
    "        line_idx += 1\n",
    "        line = list(map(float, lines[line_idx].strip().split()))\n",
    "\n",
    "        airplane = AirPlaneData(line[0], line[1], line[2], line[3], line[4], line[5])\n",
    "\n",
    "        separation_time: list[int] = []\n",
    "        while len(separation_time) < num_planes:\n",
    "            line_idx += 1\n",
    "            line = list(map(int, lines[line_idx].strip().split()))\n",
    "            for x in line:\n",
    "                separation_time.append(x)\n",
    "\n",
    "        planes.append(airplane)\n",
    "        separation_times.append(separation_time)\n",
    "\n",
    "    return LandingData(num_planes, freeze_time, planes, separation_times)"
   ],
   "id": "746ec7927bbe10c8",
   "outputs": [],
   "execution_count": 10
  },
  {
   "metadata": {
    "ExecuteTime": {
     "end_time": "2025-01-05T19:16:36.512793Z",
     "start_time": "2025-01-05T19:16:36.509573Z"
    }
   },
   "cell_type": "code",
   "source": [
    "def objective(current_solution: list[int], landing_data: LandingData) -> int:\n",
    "    total_penalty: int = 0\n",
    "    num_planes: int = len(current_solution)\n",
    "    landing_times: list[int] = [0] * num_planes\n",
    "\n",
    "    planes: list[AirPlaneData] = landing_data.planes\n",
    "    separation_times: list[list[int]] = landing_data.separation_times\n",
    "\n",
    "    for i in range(num_planes):\n",
    "        plane_idx: int = current_solution[i]\n",
    "        plane: AirPlaneData = planes[plane_idx]\n",
    "\n",
    "        landing_time: int = max(plane.earliest_landing_time, plane.appearance_time)\n",
    "\n",
    "        if i > 0:\n",
    "            prev_plane_idx: int = current_solution[i - 1]\n",
    "            landing_time: int = max(landing_time, landing_times[i - 1] + separation_times[prev_plane_idx][plane_idx])\n",
    "\n",
    "        landing_times[i] = landing_time\n",
    "\n",
    "        if landing_time < plane.target_landing_time:\n",
    "            total_penalty += (plane.target_landing_time - landing_time) * plane.penalty_cost_per_minute_early\n",
    "        elif landing_time > plane.target_landing_time:\n",
    "            total_penalty += (landing_time - plane.target_landing_time) * plane.penalty_cost_per_minute_late\n",
    "\n",
    "    return total_penalty"
   ],
   "id": "47414c596d9d7e7",
   "outputs": [],
   "execution_count": 11
  },
  {
   "metadata": {
    "ExecuteTime": {
     "end_time": "2025-01-05T19:17:32.076997Z",
     "start_time": "2025-01-05T19:17:32.073490Z"
    }
   },
   "cell_type": "code",
   "source": [
    "def simulated_annealing(landing_data: LandingData, initial_temp: int, cooling_rate: float, max_iter: int) -> Solution:\n",
    "    num_planes: int = landing_data.num_planes\n",
    "\n",
    "    current_solution: list[int] = list(range(num_planes))\n",
    "\n",
    "    random.shuffle(current_solution)\n",
    "\n",
    "    current_cost: int = objective(current_solution, landing_data)\n",
    "\n",
    "    best_solution: list[int] = copy.copy(current_solution)\n",
    "    best_cost: int = current_cost\n",
    "\n",
    "    temperature: int = initial_temp\n",
    "\n",
    "    for _ in range(max_iter):\n",
    "        new_solution: list[int] = copy.copy(current_solution)\n",
    "\n",
    "        i, j = random.sample(range(num_planes), 2)\n",
    "        new_solution[i], new_solution[j] = new_solution[j], new_solution[i]\n",
    "\n",
    "        new_cost: int = objective(new_solution, landing_data)\n",
    "\n",
    "        if new_cost < current_cost or random.random() < math.exp((current_cost - new_cost) / temperature):\n",
    "            current_solution = new_solution\n",
    "            current_cost = new_cost\n",
    "\n",
    "            if current_cost < best_cost:\n",
    "                best_solution = copy.copy(current_solution)\n",
    "                best_cost = current_cost\n",
    "\n",
    "        temperature *= cooling_rate\n",
    "\n",
    "    return Solution(best_solution, best_cost)"
   ],
   "id": "f17ecdfd7860def0",
   "outputs": [],
   "execution_count": 14
  },
  {
   "metadata": {
    "ExecuteTime": {
     "end_time": "2025-01-05T21:16:43.046530Z",
     "start_time": "2025-01-05T21:14:53.662399Z"
    }
   },
   "cell_type": "code",
   "source": [
    "file_data = \"data/airland10.txt\"\n",
    "data = load_data(file_data)\n",
    "\n",
    "start_time = time.time()\n",
    "\n",
    "solution = simulated_annealing(data, 1000, 0.95, 50000)\n",
    "\n",
    "selected_solution = solution\n",
    "selected_cost = solution.cost\n",
    "\n",
    "sum_cost: float = selected_cost\n",
    "\n",
    "for _ in range(9):\n",
    "    solution = simulated_annealing(data, 1000, 0.95, 50000)\n",
    "    sum_cost += solution.cost\n",
    "\n",
    "    if solution.cost < selected_cost:\n",
    "        selected_solution = copy.copy(solution)\n",
    "        selected_cost = solution.cost\n",
    "\n",
    "end_time = time.time()\n",
    "\n",
    "print(\"Melhor solução encontrada:\", selected_solution.solution)\n",
    "print(\"Custo da melhor solução:\", '{:>12,.2f}'.format(selected_cost))\n",
    "print(\"Custo médio da solução:\", '{:>12,.2f}'.format(sum_cost / 10))\n",
    "print(\"Tempo médio de execução:\", '{:>12,.2f}'.format((end_time - start_time) / 10))"
   ],
   "id": "7c3742a243db3377",
   "outputs": [
    {
     "name": "stdout",
     "output_type": "stream",
     "text": [
      "Melhor solução encontrada: [2, 0, 4, 11, 12, 14, 26, 19, 9, 27, 30, 32, 22, 16, 23, 61, 53, 38, 55, 56, 39, 15, 28, 29, 37, 58, 75, 33, 54, 17, 79, 31, 74, 70, 78, 88, 52, 101, 40, 18, 71, 90, 118, 117, 110, 50, 115, 100, 114, 106, 102, 125, 108, 129, 124, 73, 112, 143, 131, 127, 43, 87, 130, 84, 136, 148, 91, 34, 133, 62, 160, 123, 137, 120, 153, 155, 163, 167, 150, 157, 64, 156, 57, 95, 121, 151, 166, 60, 168, 149, 165, 161, 146, 176, 13, 159, 6, 170, 175, 173, 183, 104, 141, 142, 85, 169, 180, 126, 119, 196, 72, 184, 190, 172, 202, 69, 158, 35, 204, 187, 174, 214, 138, 177, 217, 218, 221, 211, 227, 92, 215, 240, 116, 220, 225, 238, 49, 250, 181, 41, 252, 257, 271, 235, 269, 272, 245, 236, 267, 259, 278, 268, 266, 256, 228, 216, 200, 212, 275, 135, 253, 243, 285, 292, 263, 254, 287, 298, 261, 286, 280, 290, 282, 265, 5, 276, 185, 302, 83, 284, 305, 309, 237, 251, 20, 197, 295, 289, 288, 311, 258, 283, 199, 264, 171, 317, 321, 313, 304, 205, 193, 139, 270, 310, 332, 335, 206, 44, 334, 330, 342, 89, 318, 333, 314, 306, 297, 277, 345, 260, 327, 325, 349, 46, 248, 307, 356, 191, 274, 326, 352, 338, 357, 376, 351, 375, 301, 339, 319, 315, 365, 382, 390, 222, 380, 378, 344, 232, 59, 353, 388, 348, 341, 51, 395, 389, 398, 1, 399, 207, 394, 364, 385, 370, 409, 186, 408, 354, 401, 247, 371, 407, 374, 379, 413, 393, 423, 350, 386, 373, 421, 424, 416, 422, 140, 377, 433, 347, 359, 279, 439, 418, 417, 392, 192, 246, 415, 368, 381, 440, 435, 372, 441, 402, 152, 231, 446, 324, 431, 396, 400, 369, 329, 387, 406, 384, 450, 428, 443, 82, 93, 444, 455, 122, 458, 361, 456, 425, 405, 459, 77, 230, 360, 203, 452, 145, 328, 453, 239, 63, 362, 411, 472, 397, 467, 179, 476, 460, 457, 414, 65, 226, 427, 449, 469, 479, 24, 36, 473, 454, 154, 178, 244, 481, 383, 320, 355, 103, 198, 442, 474, 484, 299, 445, 498, 358, 241, 497, 300, 480, 499, 494, 488, 223, 98, 464, 45, 340, 493, 483, 496, 451, 495, 81, 42, 485, 94, 21, 466, 242, 363, 229, 343, 312, 273, 316, 477, 404, 213, 432, 430, 438, 255, 293, 109, 281, 201, 189, 48, 99, 429, 224, 262, 80, 391, 147, 434, 487, 491, 470, 249, 162, 462, 448, 113, 366, 291, 482, 134, 337, 323, 478, 7, 86, 403, 303, 489, 471, 144, 410, 437, 461, 67, 97, 182, 412, 233, 107, 10, 475, 195, 490, 331, 105, 188, 468, 164, 463, 209, 208, 210, 367, 96, 194, 419, 128, 111, 308, 486, 234, 3, 8, 447, 68, 76, 420, 465, 436, 66, 294, 426, 132, 322, 219, 492, 296, 346, 47, 25, 336]\n",
      "Custo da melhor solução: 7,021,308.35\n",
      "Custo médio da solução: 7,384,292.97\n",
      "Tempo médio de execução:        10.93\n"
     ]
    }
   ],
   "execution_count": 106
  },
  {
   "metadata": {
    "ExecuteTime": {
     "end_time": "2025-01-05T20:18:11.391626Z",
     "start_time": "2025-01-05T20:18:11.388841Z"
    }
   },
   "cell_type": "code",
   "source": [
    "def genetic_objective(current_solution: list[int], planes: list[AirPlaneData]) -> int:\n",
    "    total_cost: int = 0\n",
    "\n",
    "    for i, landing_time in enumerate(current_solution):\n",
    "        plane = planes[i]\n",
    "        if landing_time < plane.target_landing_time:\n",
    "            total_cost += (plane.target_landing_time - landing_time) * plane.penalty_cost_per_minute_early\n",
    "        elif landing_time > plane.target_landing_time:\n",
    "            total_cost += (landing_time - plane.target_landing_time) * plane.penalty_cost_per_minute_late\n",
    "\n",
    "    return total_cost"
   ],
   "id": "200c2b3bb6d3d2a0",
   "outputs": [],
   "execution_count": 38
  },
  {
   "metadata": {
    "ExecuteTime": {
     "end_time": "2025-01-05T21:16:56.377468Z",
     "start_time": "2025-01-05T21:16:56.369758Z"
    }
   },
   "cell_type": "code",
   "source": [
    "def genetic_algorithm(landing_data: LandingData, population_size: int, generations: int, mutation_rate: float) -> Solution:\n",
    "    planes: list[AirPlaneData] = landing_data.planes\n",
    "    num_planes: int = len(planes)\n",
    "\n",
    "    def generate_initial_population() -> list[list[int]]:\n",
    "        current_population: list[list[int]] = []\n",
    "\n",
    "        while len(current_population) < population_size:\n",
    "            current_solution: list[int] = list(range(num_planes))\n",
    "            random.shuffle(current_solution)\n",
    "            current_population.append(current_solution)\n",
    "\n",
    "        return current_population\n",
    "\n",
    "    def fitness(current_solution: list[int]) -> int:\n",
    "        penalty: int = genetic_objective(current_solution, planes)\n",
    "        for i in range(len(current_solution)):\n",
    "            for j in range(i + 1, len(current_solution)):\n",
    "                if abs(current_solution[j] - current_solution[i]) > landing_data.separation_times[i][j]:\n",
    "                    penalty += 0.01\n",
    "        return penalty\n",
    "\n",
    "    def select_parents(current_population: list[list[int]]) -> tuple[list[int], list[int]]:\n",
    "        current_fitness = [fitness(current_solution) for current_solution in current_population]\n",
    "        current_probabilities = [f / sum(current_fitness) for f in current_fitness]\n",
    "        return random.choices(current_population, current_probabilities, k=2)\n",
    "\n",
    "    def crossover(father: list[int], mother: list[int]) -> tuple[list[int], list[int]]:\n",
    "        crossover_point: int = random.randint(1, len(father) - 1)\n",
    "        first_child: list[int] = father[:crossover_point] + mother[crossover_point:]\n",
    "        second_child: list[int] = mother[:crossover_point] + father[crossover_point:]\n",
    "\n",
    "        first_child = remove_duplicates(first_child)\n",
    "        second_child = remove_duplicates(second_child)\n",
    "\n",
    "        return first_child, second_child\n",
    "\n",
    "    def remove_duplicates(child: list[int]) -> list[int]:\n",
    "        all_values = set(range(num_planes))\n",
    "        present_values = set(child)\n",
    "        missing_values = list(all_values - present_values)\n",
    "\n",
    "        seen = set()\n",
    "        for i in range(len(child)):\n",
    "            if child[i] in seen:\n",
    "                child[i] = missing_values.pop()\n",
    "            else:\n",
    "                seen.add(child[i])\n",
    "\n",
    "        return child\n",
    "\n",
    "    def mutate(current_solution: list[int]) -> list[int]:\n",
    "        if random.random() < mutation_rate:\n",
    "            i, j = random.sample(range(num_planes), 2)\n",
    "            current_solution[i], current_solution[j] = current_solution[j], current_solution[i]\n",
    "\n",
    "        return current_solution\n",
    "\n",
    "    population: list[list[int]] = generate_initial_population()\n",
    "    for generation in range(generations):\n",
    "        new_population: list[list[int]] = []\n",
    "        while len(new_population) < population_size:\n",
    "            parent1, parent2 = select_parents(population)\n",
    "            child1, child2 = crossover(parent1, parent2)\n",
    "            mutate(child1)\n",
    "            mutate(child2)\n",
    "            new_population.extend([child1, child2])\n",
    "        population = sorted(new_population, key=fitness, reverse=True)[:population_size]\n",
    "\n",
    "    best_solution: list[int] = max(population, key=fitness)\n",
    "    return Solution(best_solution, fitness(best_solution))"
   ],
   "id": "4fdd7e599d279fc6",
   "outputs": [],
   "execution_count": 108
  },
  {
   "metadata": {
    "ExecuteTime": {
     "end_time": "2025-01-05T21:35:10.818377Z",
     "start_time": "2025-01-05T21:31:25.776929Z"
    }
   },
   "cell_type": "code",
   "source": [
    "file_data = \"data/airland10.txt\"\n",
    "data = load_data(file_data)\n",
    "\n",
    "start_time = time.time()\n",
    "\n",
    "solution = genetic_algorithm(data, 10, 500, 0.3)\n",
    "\n",
    "selected_solution = solution\n",
    "selected_cost = solution.cost\n",
    "\n",
    "sum_cost: float = selected_cost\n",
    "\n",
    "for _ in range(9):\n",
    "    solution = genetic_algorithm(data, 10, 500, 0.3)\n",
    "    sum_cost += solution.cost\n",
    "\n",
    "    if solution.cost < selected_cost:\n",
    "        selected_solution = copy.copy(solution)\n",
    "        selected_cost = solution.cost\n",
    "\n",
    "end_time = time.time()\n",
    "\n",
    "print(\"Melhor solução encontrada:\", selected_solution.solution)\n",
    "print(\"Custo da melhor solução:\", '{:>12,.2f}'.format(selected_cost))\n",
    "print(\"Custo médio da solução:\", '{:>12,.2f}'.format(sum_cost / 10))\n",
    "print(\"Tempo médio de execução:\", '{:>12,.2f}'.format((end_time - start_time) / 10))"
   ],
   "id": "887d20827ccb8823",
   "outputs": [
    {
     "name": "stdout",
     "output_type": "stream",
     "text": [
      "Melhor solução encontrada: [60, 148, 21, 125, 47, 72, 97, 58, 92, 141, 10, 118, 113, 109, 76, 56, 64, 15, 11, 12, 95, 106, 104, 129, 30, 143, 130, 123, 131, 101, 99, 98, 14, 37, 149, 17, 147, 71, 112, 22, 44, 90, 3, 117, 54, 13, 68, 94, 107, 18, 126, 121, 144, 120, 40, 45, 65, 62, 69, 88, 23, 140, 33, 51, 19, 66, 115, 132, 43, 2, 55, 59, 119, 145, 102, 53, 146, 38, 46, 139, 87, 84, 142, 135, 82, 127, 25, 116, 31, 29, 5, 61, 103, 35, 79, 122, 7, 85, 83, 114, 28, 133, 110, 57, 36, 24, 52, 0, 89, 70, 111, 9, 91, 93, 63, 108, 86, 20, 34, 49, 78, 27, 77, 75, 6, 41, 73, 80, 105, 138, 100, 124, 32, 39, 50, 137, 4, 1, 134, 26, 42, 67, 136, 74, 96, 81, 48, 8, 16, 128]\n",
      "Custo da melhor solução: 2,105,014.45\n",
      "Custo médio da solução: 2,105,327.55\n",
      "Tempo médio de execução:        22.50\n"
     ]
    }
   ],
   "execution_count": 128
  },
  {
   "metadata": {
    "ExecuteTime": {
     "end_time": "2025-01-05T21:27:30.473997Z",
     "start_time": "2025-01-05T21:27:30.468265Z"
    }
   },
   "cell_type": "code",
   "source": [
    "def ant_colony_optimization(landing_data: LandingData,\n",
    "                            num_ants: int,\n",
    "                            num_iterations: int,\n",
    "                            alpha: float,\n",
    "                            beta: float,\n",
    "                            evaporation_rate: float,\n",
    "                            pheromone_init: float) -> Solution:\n",
    "\n",
    "    num_planes: int = landing_data.num_planes\n",
    "\n",
    "    pheromone: list[list[float]] = [[pheromone_init for _ in range(num_planes)] for _ in range(num_planes)]\n",
    "\n",
    "    def calculate_probabilities(current_plane: int, visited: set[int]) -> list[float]:\n",
    "        probabilities: list[float] = []\n",
    "        for next_plane in range(num_planes):\n",
    "            if next_plane not in visited:\n",
    "                pheromone_value = pheromone[current_plane][next_plane]\n",
    "                heuristic_value = 1 / (landing_data.planes[next_plane].target_landing_time + 1e-6)\n",
    "                probabilities.append((pheromone_value ** alpha) * (heuristic_value ** beta))\n",
    "            else:\n",
    "                probabilities.append(0)\n",
    "        total = sum(probabilities)\n",
    "        return [p / total if total > 0 else 0 for p in probabilities]\n",
    "\n",
    "    def construct_solution() -> list[int]:\n",
    "        visited: set[int] = set()\n",
    "        current_solution: list[int] = []\n",
    "        current_plane = random.randint(0, num_planes - 1)\n",
    "        current_solution.append(current_plane)\n",
    "        visited.add(current_plane)\n",
    "\n",
    "        while len(current_solution) < num_planes:\n",
    "            probabilities = calculate_probabilities(current_plane, visited)\n",
    "            next_plane = random.choices(range(num_planes), weights=probabilities, k=1)[0]\n",
    "            current_solution.append(next_plane)\n",
    "            visited.add(next_plane)\n",
    "            current_plane = next_plane\n",
    "\n",
    "        return current_solution\n",
    "\n",
    "    def update_pheromone(current_ants: list[Solution]):\n",
    "        for i in range(num_planes):\n",
    "            for j in range(num_planes):\n",
    "                pheromone[i][j] *= (1 - evaporation_rate)\n",
    "\n",
    "        for ant in current_ants:\n",
    "            for idx in range(len(ant.solution) - 1):\n",
    "                i, j = ant.solution[idx], ant.solution[idx + 1]\n",
    "                pheromone[i][j] += 1 / ant.cost if ant.cost > 0 else 1\n",
    "\n",
    "    best_solution: Solution = Solution([], float('inf'))\n",
    "\n",
    "    for _ in range(num_iterations):\n",
    "        ants: list[Solution] = []\n",
    "\n",
    "        for _ in range(num_ants):\n",
    "            actual_solution = construct_solution()\n",
    "            cost = objective(actual_solution, landing_data)\n",
    "            ants.append(Solution(actual_solution, cost))\n",
    "\n",
    "            if cost < best_solution.cost:\n",
    "                best_solution = Solution(actual_solution, cost)\n",
    "\n",
    "        update_pheromone(ants)\n",
    "\n",
    "    return best_solution"
   ],
   "id": "fe87b9a068e47c9b",
   "outputs": [],
   "execution_count": 122
  },
  {
   "metadata": {
    "ExecuteTime": {
     "end_time": "2025-01-05T21:30:55.969267Z",
     "start_time": "2025-01-05T21:30:03.617261Z"
    }
   },
   "cell_type": "code",
   "source": [
    "file_data = \"data/airland10.txt\"\n",
    "data = load_data(file_data)\n",
    "\n",
    "start_time = time.time()\n",
    "\n",
    "solution = ant_colony_optimization(\n",
    "    landing_data=data,\n",
    "    num_ants=10,\n",
    "    num_iterations=100,\n",
    "    alpha=1.0,\n",
    "    beta=2.0,\n",
    "    evaporation_rate=0.1,\n",
    "    pheromone_init=1.0\n",
    ")\n",
    "\n",
    "selected_solution = solution\n",
    "selected_cost = solution.cost\n",
    "\n",
    "sum_cost: float = selected_cost\n",
    "\n",
    "for _ in range(9):\n",
    "    solution = ant_colony_optimization(\n",
    "        landing_data=data,\n",
    "        num_ants=10,\n",
    "        num_iterations=100,\n",
    "        alpha=1.0,\n",
    "        beta=2.0,\n",
    "        evaporation_rate=0.1,\n",
    "        pheromone_init=1.0\n",
    "    )\n",
    "    sum_cost += solution.cost\n",
    "\n",
    "    if solution.cost < selected_cost:\n",
    "        selected_solution = copy.copy(solution)\n",
    "        selected_cost = solution.cost\n",
    "\n",
    "end_time = time.time()\n",
    "\n",
    "print(\"Melhor solução encontrada:\", selected_solution.solution)\n",
    "print(\"Custo da melhor solução:\", '{:>12,.2f}'.format(selected_cost))\n",
    "print(\"Custo médio da solução:\", '{:>12,.2f}'.format(sum_cost / 10))\n",
    "print(\"Tempo médio de execução:\", '{:>12,.2f}'.format((end_time - start_time) / 10))"
   ],
   "id": "fc7ca44fe2631d6e",
   "outputs": [
    {
     "name": "stdout",
     "output_type": "stream",
     "text": [
      "Melhor solução encontrada: [37, 29, 34, 8, 20, 1, 46, 2, 27, 0, 31, 9, 7, 35, 14, 17, 50, 3, 5, 51, 41, 28, 6, 11, 4, 68, 26, 54, 24, 77, 19, 23, 13, 10, 15, 55, 12, 63, 48, 40, 44, 73, 67, 33, 21, 38, 52, 58, 18, 49, 62, 71, 16, 113, 104, 79, 81, 122, 95, 70, 64, 72, 25, 116, 123, 112, 39, 88, 36, 22, 32, 69, 110, 30, 80, 42, 105, 115, 61, 86, 118, 47, 84, 65, 43, 119, 87, 89, 133, 76, 45, 66, 91, 140, 124, 53, 138, 117, 97, 82, 75, 125, 149, 128, 93, 107, 111, 56, 74, 57, 96, 59, 90, 137, 136, 114, 139, 83, 142, 92, 78, 60, 141, 126, 103, 132, 102, 129, 85, 108, 131, 145, 101, 99, 100, 106, 94, 130, 98, 121, 147, 148, 120, 127, 144, 109, 146, 134, 143, 135]\n",
      "Custo da melhor solução: 1,191,828.32\n",
      "Custo médio da solução: 1,367,509.02\n",
      "Tempo médio de execução:         5.23\n"
     ]
    }
   ],
   "execution_count": 127
  }
 ],
 "metadata": {
  "kernelspec": {
   "display_name": "Python 3",
   "language": "python",
   "name": "python3"
  },
  "language_info": {
   "codemirror_mode": {
    "name": "ipython",
    "version": 2
   },
   "file_extension": ".py",
   "mimetype": "text/x-python",
   "name": "python",
   "nbconvert_exporter": "python",
   "pygments_lexer": "ipython2",
   "version": "2.7.6"
  }
 },
 "nbformat": 4,
 "nbformat_minor": 5
}
